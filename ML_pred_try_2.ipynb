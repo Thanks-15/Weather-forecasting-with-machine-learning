{
 "cells": [
  {
   "cell_type": "code",
   "execution_count": 1,
   "metadata": {},
   "outputs": [],
   "source": [
    "import pandas as pd "
   ]
  },
  {
   "cell_type": "code",
   "execution_count": 2,
   "metadata": {},
   "outputs": [],
   "source": [
    "# the value in the data are in CELSIUS/metric ---------------------------------------\n",
    "df = pd.read_csv(r'C:\\Users\\vicky\\OneDrive\\Desktop\\New ML Project sem 6\\try\\temp_celsius.csv', index_col = 'DATE')"
   ]
  },
  {
   "cell_type": "code",
   "execution_count": 3,
   "metadata": {},
   "outputs": [
    {
     "data": {
      "text/html": [
       "<div>\n",
       "<style scoped>\n",
       "    .dataframe tbody tr th:only-of-type {\n",
       "        vertical-align: middle;\n",
       "    }\n",
       "\n",
       "    .dataframe tbody tr th {\n",
       "        vertical-align: top;\n",
       "    }\n",
       "\n",
       "    .dataframe thead th {\n",
       "        text-align: right;\n",
       "    }\n",
       "</style>\n",
       "<table border=\"1\" class=\"dataframe\">\n",
       "  <thead>\n",
       "    <tr style=\"text-align: right;\">\n",
       "      <th></th>\n",
       "      <th>STATION</th>\n",
       "      <th>NAME</th>\n",
       "      <th>PRCP</th>\n",
       "      <th>TAVG</th>\n",
       "      <th>TMAX</th>\n",
       "      <th>TMIN</th>\n",
       "    </tr>\n",
       "    <tr>\n",
       "      <th>DATE</th>\n",
       "      <th></th>\n",
       "      <th></th>\n",
       "      <th></th>\n",
       "      <th></th>\n",
       "      <th></th>\n",
       "      <th></th>\n",
       "    </tr>\n",
       "  </thead>\n",
       "  <tbody>\n",
       "    <tr>\n",
       "      <th>1939-08-11</th>\n",
       "      <td>ASN00003003</td>\n",
       "      <td>BROOME AIRPORT, AS</td>\n",
       "      <td>0.0</td>\n",
       "      <td>22.2</td>\n",
       "      <td>27.8</td>\n",
       "      <td>13.3</td>\n",
       "    </tr>\n",
       "    <tr>\n",
       "      <th>1939-08-12</th>\n",
       "      <td>ASN00003003</td>\n",
       "      <td>BROOME AIRPORT, AS</td>\n",
       "      <td>0.0</td>\n",
       "      <td>NaN</td>\n",
       "      <td>26.4</td>\n",
       "      <td>13.3</td>\n",
       "    </tr>\n",
       "    <tr>\n",
       "      <th>1939-08-13</th>\n",
       "      <td>ASN00003003</td>\n",
       "      <td>BROOME AIRPORT, AS</td>\n",
       "      <td>0.0</td>\n",
       "      <td>NaN</td>\n",
       "      <td>NaN</td>\n",
       "      <td>16.9</td>\n",
       "    </tr>\n",
       "    <tr>\n",
       "      <th>1939-08-14</th>\n",
       "      <td>ASN00003003</td>\n",
       "      <td>BROOME AIRPORT, AS</td>\n",
       "      <td>0.0</td>\n",
       "      <td>NaN</td>\n",
       "      <td>32.0</td>\n",
       "      <td>NaN</td>\n",
       "    </tr>\n",
       "    <tr>\n",
       "      <th>1939-08-15</th>\n",
       "      <td>ASN00003003</td>\n",
       "      <td>BROOME AIRPORT, AS</td>\n",
       "      <td>0.0</td>\n",
       "      <td>25.4</td>\n",
       "      <td>31.9</td>\n",
       "      <td>17.1</td>\n",
       "    </tr>\n",
       "  </tbody>\n",
       "</table>\n",
       "</div>"
      ],
      "text/plain": [
       "                STATION                NAME  PRCP  TAVG  TMAX  TMIN\n",
       "DATE                                                               \n",
       "1939-08-11  ASN00003003  BROOME AIRPORT, AS   0.0  22.2  27.8  13.3\n",
       "1939-08-12  ASN00003003  BROOME AIRPORT, AS   0.0   NaN  26.4  13.3\n",
       "1939-08-13  ASN00003003  BROOME AIRPORT, AS   0.0   NaN   NaN  16.9\n",
       "1939-08-14  ASN00003003  BROOME AIRPORT, AS   0.0   NaN  32.0   NaN\n",
       "1939-08-15  ASN00003003  BROOME AIRPORT, AS   0.0  25.4  31.9  17.1"
      ]
     },
     "execution_count": 3,
     "metadata": {},
     "output_type": "execute_result"
    }
   ],
   "source": [
    "df.head()"
   ]
  },
  {
   "cell_type": "code",
   "execution_count": 4,
   "metadata": {},
   "outputs": [],
   "source": [
    "df1 = df[[\"PRCP\", \"TMIN\", \"TMAX\"]]"
   ]
  },
  {
   "cell_type": "code",
   "execution_count": 5,
   "metadata": {},
   "outputs": [],
   "source": [
    "df1.columns = [\"precip\", \"temp_min\", \"temp_max\"]"
   ]
  },
  {
   "cell_type": "code",
   "execution_count": 6,
   "metadata": {},
   "outputs": [
    {
     "data": {
      "text/plain": [
       "precip      0.011464\n",
       "temp_min    0.002452\n",
       "temp_max    0.001226\n",
       "dtype: float64"
      ]
     },
     "execution_count": 6,
     "metadata": {},
     "output_type": "execute_result"
    }
   ],
   "source": [
    "df1.apply(pd.isnull).sum()/df1.shape[0]"
   ]
  },
  {
   "cell_type": "code",
   "execution_count": 7,
   "metadata": {},
   "outputs": [
    {
     "data": {
      "text/html": [
       "<div>\n",
       "<style scoped>\n",
       "    .dataframe tbody tr th:only-of-type {\n",
       "        vertical-align: middle;\n",
       "    }\n",
       "\n",
       "    .dataframe tbody tr th {\n",
       "        vertical-align: top;\n",
       "    }\n",
       "\n",
       "    .dataframe thead th {\n",
       "        text-align: right;\n",
       "    }\n",
       "</style>\n",
       "<table border=\"1\" class=\"dataframe\">\n",
       "  <thead>\n",
       "    <tr style=\"text-align: right;\">\n",
       "      <th></th>\n",
       "      <th>precip</th>\n",
       "      <th>temp_min</th>\n",
       "      <th>temp_max</th>\n",
       "    </tr>\n",
       "    <tr>\n",
       "      <th>DATE</th>\n",
       "      <th></th>\n",
       "      <th></th>\n",
       "      <th></th>\n",
       "    </tr>\n",
       "  </thead>\n",
       "  <tbody>\n",
       "    <tr>\n",
       "      <th>1939-10-01</th>\n",
       "      <td>NaN</td>\n",
       "      <td>21.9</td>\n",
       "      <td>30.6</td>\n",
       "    </tr>\n",
       "    <tr>\n",
       "      <th>1939-10-02</th>\n",
       "      <td>NaN</td>\n",
       "      <td>21.1</td>\n",
       "      <td>28.9</td>\n",
       "    </tr>\n",
       "    <tr>\n",
       "      <th>1939-10-03</th>\n",
       "      <td>NaN</td>\n",
       "      <td>20.0</td>\n",
       "      <td>29.4</td>\n",
       "    </tr>\n",
       "    <tr>\n",
       "      <th>1939-10-04</th>\n",
       "      <td>NaN</td>\n",
       "      <td>22.2</td>\n",
       "      <td>27.8</td>\n",
       "    </tr>\n",
       "    <tr>\n",
       "      <th>1939-10-05</th>\n",
       "      <td>NaN</td>\n",
       "      <td>20.6</td>\n",
       "      <td>28.9</td>\n",
       "    </tr>\n",
       "    <tr>\n",
       "      <th>...</th>\n",
       "      <td>...</td>\n",
       "      <td>...</td>\n",
       "      <td>...</td>\n",
       "    </tr>\n",
       "    <tr>\n",
       "      <th>2020-10-25</th>\n",
       "      <td>NaN</td>\n",
       "      <td>25.8</td>\n",
       "      <td>30.7</td>\n",
       "    </tr>\n",
       "    <tr>\n",
       "      <th>2021-07-14</th>\n",
       "      <td>NaN</td>\n",
       "      <td>NaN</td>\n",
       "      <td>27.6</td>\n",
       "    </tr>\n",
       "    <tr>\n",
       "      <th>2021-10-21</th>\n",
       "      <td>NaN</td>\n",
       "      <td>25.5</td>\n",
       "      <td>31.9</td>\n",
       "    </tr>\n",
       "    <tr>\n",
       "      <th>2021-11-13</th>\n",
       "      <td>NaN</td>\n",
       "      <td>21.3</td>\n",
       "      <td>37.4</td>\n",
       "    </tr>\n",
       "    <tr>\n",
       "      <th>2021-12-04</th>\n",
       "      <td>NaN</td>\n",
       "      <td>NaN</td>\n",
       "      <td>34.4</td>\n",
       "    </tr>\n",
       "  </tbody>\n",
       "</table>\n",
       "<p>346 rows × 3 columns</p>\n",
       "</div>"
      ],
      "text/plain": [
       "            precip  temp_min  temp_max\n",
       "DATE                                  \n",
       "1939-10-01     NaN      21.9      30.6\n",
       "1939-10-02     NaN      21.1      28.9\n",
       "1939-10-03     NaN      20.0      29.4\n",
       "1939-10-04     NaN      22.2      27.8\n",
       "1939-10-05     NaN      20.6      28.9\n",
       "...            ...       ...       ...\n",
       "2020-10-25     NaN      25.8      30.7\n",
       "2021-07-14     NaN       NaN      27.6\n",
       "2021-10-21     NaN      25.5      31.9\n",
       "2021-11-13     NaN      21.3      37.4\n",
       "2021-12-04     NaN       NaN      34.4\n",
       "\n",
       "[346 rows x 3 columns]"
      ]
     },
     "execution_count": 7,
     "metadata": {},
     "output_type": "execute_result"
    }
   ],
   "source": [
    "df1[pd.isnull(df1[\"precip\"])]"
   ]
  },
  {
   "cell_type": "code",
   "execution_count": 8,
   "metadata": {},
   "outputs": [
    {
     "data": {
      "text/plain": [
       "0.0      25440\n",
       "0.2        543\n",
       "0.3        309\n",
       "0.4        201\n",
       "0.8        162\n",
       "         ...  \n",
       "115.8        1\n",
       "44.4         1\n",
       "70.8         1\n",
       "98.6         1\n",
       "326.0        1\n",
       "Name: precip, Length: 500, dtype: int64"
      ]
     },
     "execution_count": 8,
     "metadata": {},
     "output_type": "execute_result"
    }
   ],
   "source": [
    "df1[\"precip\"].value_counts()"
   ]
  },
  {
   "cell_type": "code",
   "execution_count": 9,
   "metadata": {},
   "outputs": [
    {
     "name": "stderr",
     "output_type": "stream",
     "text": [
      "C:\\Users\\vicky\\AppData\\Local\\Temp/ipykernel_12356/3138647391.py:1: SettingWithCopyWarning: \n",
      "A value is trying to be set on a copy of a slice from a DataFrame.\n",
      "Try using .loc[row_indexer,col_indexer] = value instead\n",
      "\n",
      "See the caveats in the documentation: https://pandas.pydata.org/pandas-docs/stable/user_guide/indexing.html#returning-a-view-versus-a-copy\n",
      "  df1[\"precip\"] = df1[\"precip\"].fillna(0)\n"
     ]
    }
   ],
   "source": [
    "df1[\"precip\"] = df1[\"precip\"].fillna(0)"
   ]
  },
  {
   "cell_type": "code",
   "execution_count": 10,
   "metadata": {},
   "outputs": [
    {
     "data": {
      "text/html": [
       "<div>\n",
       "<style scoped>\n",
       "    .dataframe tbody tr th:only-of-type {\n",
       "        vertical-align: middle;\n",
       "    }\n",
       "\n",
       "    .dataframe tbody tr th {\n",
       "        vertical-align: top;\n",
       "    }\n",
       "\n",
       "    .dataframe thead th {\n",
       "        text-align: right;\n",
       "    }\n",
       "</style>\n",
       "<table border=\"1\" class=\"dataframe\">\n",
       "  <thead>\n",
       "    <tr style=\"text-align: right;\">\n",
       "      <th></th>\n",
       "      <th>precip</th>\n",
       "      <th>temp_min</th>\n",
       "      <th>temp_max</th>\n",
       "    </tr>\n",
       "    <tr>\n",
       "      <th>DATE</th>\n",
       "      <th></th>\n",
       "      <th></th>\n",
       "      <th></th>\n",
       "    </tr>\n",
       "  </thead>\n",
       "  <tbody>\n",
       "    <tr>\n",
       "      <th>1939-08-13</th>\n",
       "      <td>0.0</td>\n",
       "      <td>16.9</td>\n",
       "      <td>NaN</td>\n",
       "    </tr>\n",
       "    <tr>\n",
       "      <th>1939-08-27</th>\n",
       "      <td>0.0</td>\n",
       "      <td>18.9</td>\n",
       "      <td>NaN</td>\n",
       "    </tr>\n",
       "    <tr>\n",
       "      <th>1939-09-03</th>\n",
       "      <td>0.0</td>\n",
       "      <td>17.5</td>\n",
       "      <td>NaN</td>\n",
       "    </tr>\n",
       "    <tr>\n",
       "      <th>1939-09-10</th>\n",
       "      <td>0.0</td>\n",
       "      <td>18.0</td>\n",
       "      <td>NaN</td>\n",
       "    </tr>\n",
       "    <tr>\n",
       "      <th>1939-09-17</th>\n",
       "      <td>0.0</td>\n",
       "      <td>14.4</td>\n",
       "      <td>NaN</td>\n",
       "    </tr>\n",
       "    <tr>\n",
       "      <th>1940-08-06</th>\n",
       "      <td>0.0</td>\n",
       "      <td>NaN</td>\n",
       "      <td>NaN</td>\n",
       "    </tr>\n",
       "    <tr>\n",
       "      <th>1940-08-08</th>\n",
       "      <td>0.0</td>\n",
       "      <td>11.3</td>\n",
       "      <td>NaN</td>\n",
       "    </tr>\n",
       "    <tr>\n",
       "      <th>1940-08-12</th>\n",
       "      <td>0.0</td>\n",
       "      <td>20.8</td>\n",
       "      <td>NaN</td>\n",
       "    </tr>\n",
       "    <tr>\n",
       "      <th>1940-08-20</th>\n",
       "      <td>0.0</td>\n",
       "      <td>NaN</td>\n",
       "      <td>NaN</td>\n",
       "    </tr>\n",
       "    <tr>\n",
       "      <th>1940-08-27</th>\n",
       "      <td>0.0</td>\n",
       "      <td>NaN</td>\n",
       "      <td>NaN</td>\n",
       "    </tr>\n",
       "    <tr>\n",
       "      <th>1941-07-27</th>\n",
       "      <td>0.0</td>\n",
       "      <td>NaN</td>\n",
       "      <td>NaN</td>\n",
       "    </tr>\n",
       "    <tr>\n",
       "      <th>1941-07-28</th>\n",
       "      <td>0.0</td>\n",
       "      <td>NaN</td>\n",
       "      <td>NaN</td>\n",
       "    </tr>\n",
       "    <tr>\n",
       "      <th>1942-08-31</th>\n",
       "      <td>0.0</td>\n",
       "      <td>12.7</td>\n",
       "      <td>NaN</td>\n",
       "    </tr>\n",
       "    <tr>\n",
       "      <th>1942-11-30</th>\n",
       "      <td>0.0</td>\n",
       "      <td>23.5</td>\n",
       "      <td>NaN</td>\n",
       "    </tr>\n",
       "    <tr>\n",
       "      <th>1946-05-31</th>\n",
       "      <td>0.0</td>\n",
       "      <td>17.2</td>\n",
       "      <td>NaN</td>\n",
       "    </tr>\n",
       "    <tr>\n",
       "      <th>1946-12-31</th>\n",
       "      <td>0.0</td>\n",
       "      <td>26.3</td>\n",
       "      <td>NaN</td>\n",
       "    </tr>\n",
       "    <tr>\n",
       "      <th>1970-06-25</th>\n",
       "      <td>0.0</td>\n",
       "      <td>13.1</td>\n",
       "      <td>NaN</td>\n",
       "    </tr>\n",
       "    <tr>\n",
       "      <th>1970-06-26</th>\n",
       "      <td>0.0</td>\n",
       "      <td>14.7</td>\n",
       "      <td>NaN</td>\n",
       "    </tr>\n",
       "    <tr>\n",
       "      <th>1973-05-17</th>\n",
       "      <td>0.8</td>\n",
       "      <td>22.8</td>\n",
       "      <td>NaN</td>\n",
       "    </tr>\n",
       "    <tr>\n",
       "      <th>1980-04-22</th>\n",
       "      <td>1.0</td>\n",
       "      <td>25.1</td>\n",
       "      <td>NaN</td>\n",
       "    </tr>\n",
       "    <tr>\n",
       "      <th>1983-01-07</th>\n",
       "      <td>0.0</td>\n",
       "      <td>NaN</td>\n",
       "      <td>NaN</td>\n",
       "    </tr>\n",
       "    <tr>\n",
       "      <th>1983-12-21</th>\n",
       "      <td>0.2</td>\n",
       "      <td>NaN</td>\n",
       "      <td>NaN</td>\n",
       "    </tr>\n",
       "    <tr>\n",
       "      <th>1983-12-22</th>\n",
       "      <td>8.0</td>\n",
       "      <td>NaN</td>\n",
       "      <td>NaN</td>\n",
       "    </tr>\n",
       "    <tr>\n",
       "      <th>2017-09-08</th>\n",
       "      <td>0.0</td>\n",
       "      <td>21.6</td>\n",
       "      <td>NaN</td>\n",
       "    </tr>\n",
       "    <tr>\n",
       "      <th>2017-09-09</th>\n",
       "      <td>0.0</td>\n",
       "      <td>NaN</td>\n",
       "      <td>NaN</td>\n",
       "    </tr>\n",
       "    <tr>\n",
       "      <th>2018-11-22</th>\n",
       "      <td>0.0</td>\n",
       "      <td>26.0</td>\n",
       "      <td>NaN</td>\n",
       "    </tr>\n",
       "    <tr>\n",
       "      <th>2019-01-10</th>\n",
       "      <td>0.0</td>\n",
       "      <td>27.7</td>\n",
       "      <td>NaN</td>\n",
       "    </tr>\n",
       "    <tr>\n",
       "      <th>2020-04-30</th>\n",
       "      <td>0.0</td>\n",
       "      <td>25.4</td>\n",
       "      <td>NaN</td>\n",
       "    </tr>\n",
       "    <tr>\n",
       "      <th>2021-04-29</th>\n",
       "      <td>0.0</td>\n",
       "      <td>21.7</td>\n",
       "      <td>NaN</td>\n",
       "    </tr>\n",
       "    <tr>\n",
       "      <th>2021-07-13</th>\n",
       "      <td>0.0</td>\n",
       "      <td>19.3</td>\n",
       "      <td>NaN</td>\n",
       "    </tr>\n",
       "    <tr>\n",
       "      <th>2021-07-15</th>\n",
       "      <td>0.0</td>\n",
       "      <td>19.7</td>\n",
       "      <td>NaN</td>\n",
       "    </tr>\n",
       "    <tr>\n",
       "      <th>2021-07-19</th>\n",
       "      <td>0.0</td>\n",
       "      <td>13.7</td>\n",
       "      <td>NaN</td>\n",
       "    </tr>\n",
       "    <tr>\n",
       "      <th>2021-08-16</th>\n",
       "      <td>0.0</td>\n",
       "      <td>16.6</td>\n",
       "      <td>NaN</td>\n",
       "    </tr>\n",
       "    <tr>\n",
       "      <th>2022-03-17</th>\n",
       "      <td>6.4</td>\n",
       "      <td>24.8</td>\n",
       "      <td>NaN</td>\n",
       "    </tr>\n",
       "    <tr>\n",
       "      <th>2022-03-23</th>\n",
       "      <td>0.0</td>\n",
       "      <td>29.4</td>\n",
       "      <td>NaN</td>\n",
       "    </tr>\n",
       "    <tr>\n",
       "      <th>2022-03-25</th>\n",
       "      <td>0.0</td>\n",
       "      <td>NaN</td>\n",
       "      <td>NaN</td>\n",
       "    </tr>\n",
       "    <tr>\n",
       "      <th>2022-03-29</th>\n",
       "      <td>0.8</td>\n",
       "      <td>NaN</td>\n",
       "      <td>NaN</td>\n",
       "    </tr>\n",
       "  </tbody>\n",
       "</table>\n",
       "</div>"
      ],
      "text/plain": [
       "            precip  temp_min  temp_max\n",
       "DATE                                  \n",
       "1939-08-13     0.0      16.9       NaN\n",
       "1939-08-27     0.0      18.9       NaN\n",
       "1939-09-03     0.0      17.5       NaN\n",
       "1939-09-10     0.0      18.0       NaN\n",
       "1939-09-17     0.0      14.4       NaN\n",
       "1940-08-06     0.0       NaN       NaN\n",
       "1940-08-08     0.0      11.3       NaN\n",
       "1940-08-12     0.0      20.8       NaN\n",
       "1940-08-20     0.0       NaN       NaN\n",
       "1940-08-27     0.0       NaN       NaN\n",
       "1941-07-27     0.0       NaN       NaN\n",
       "1941-07-28     0.0       NaN       NaN\n",
       "1942-08-31     0.0      12.7       NaN\n",
       "1942-11-30     0.0      23.5       NaN\n",
       "1946-05-31     0.0      17.2       NaN\n",
       "1946-12-31     0.0      26.3       NaN\n",
       "1970-06-25     0.0      13.1       NaN\n",
       "1970-06-26     0.0      14.7       NaN\n",
       "1973-05-17     0.8      22.8       NaN\n",
       "1980-04-22     1.0      25.1       NaN\n",
       "1983-01-07     0.0       NaN       NaN\n",
       "1983-12-21     0.2       NaN       NaN\n",
       "1983-12-22     8.0       NaN       NaN\n",
       "2017-09-08     0.0      21.6       NaN\n",
       "2017-09-09     0.0       NaN       NaN\n",
       "2018-11-22     0.0      26.0       NaN\n",
       "2019-01-10     0.0      27.7       NaN\n",
       "2020-04-30     0.0      25.4       NaN\n",
       "2021-04-29     0.0      21.7       NaN\n",
       "2021-07-13     0.0      19.3       NaN\n",
       "2021-07-15     0.0      19.7       NaN\n",
       "2021-07-19     0.0      13.7       NaN\n",
       "2021-08-16     0.0      16.6       NaN\n",
       "2022-03-17     6.4      24.8       NaN\n",
       "2022-03-23     0.0      29.4       NaN\n",
       "2022-03-25     0.0       NaN       NaN\n",
       "2022-03-29     0.8       NaN       NaN"
      ]
     },
     "execution_count": 10,
     "metadata": {},
     "output_type": "execute_result"
    }
   ],
   "source": [
    "df1[pd.isnull(df1[\"temp_max\"])]"
   ]
  },
  {
   "cell_type": "code",
   "execution_count": 11,
   "metadata": {},
   "outputs": [],
   "source": [
    "df1 = df1.fillna(method= \"ffill\")"
   ]
  },
  {
   "cell_type": "code",
   "execution_count": 12,
   "metadata": {},
   "outputs": [
    {
     "data": {
      "text/plain": [
       "precip      0.0\n",
       "temp_min    0.0\n",
       "temp_max    0.0\n",
       "dtype: float64"
      ]
     },
     "execution_count": 12,
     "metadata": {},
     "output_type": "execute_result"
    }
   ],
   "source": [
    "df1.apply(pd.isnull).sum()/df1.shape[0]"
   ]
  },
  {
   "cell_type": "code",
   "execution_count": 13,
   "metadata": {},
   "outputs": [
    {
     "data": {
      "text/plain": [
       "precip      float64\n",
       "temp_min    float64\n",
       "temp_max    float64\n",
       "dtype: object"
      ]
     },
     "execution_count": 13,
     "metadata": {},
     "output_type": "execute_result"
    }
   ],
   "source": [
    "df1.dtypes"
   ]
  },
  {
   "cell_type": "code",
   "execution_count": 14,
   "metadata": {},
   "outputs": [
    {
     "data": {
      "text/plain": [
       "Index(['1939-08-11', '1939-08-12', '1939-08-13', '1939-08-14', '1939-08-15',\n",
       "       '1939-08-16', '1939-08-17', '1939-08-18', '1939-08-19', '1939-08-20',\n",
       "       ...\n",
       "       '2022-03-20', '2022-03-21', '2022-03-22', '2022-03-23', '2022-03-24',\n",
       "       '2022-03-25', '2022-03-26', '2022-03-27', '2022-03-28', '2022-03-29'],\n",
       "      dtype='object', name='DATE', length=30182)"
      ]
     },
     "execution_count": 14,
     "metadata": {},
     "output_type": "execute_result"
    }
   ],
   "source": [
    "df1.index"
   ]
  },
  {
   "cell_type": "code",
   "execution_count": 15,
   "metadata": {},
   "outputs": [],
   "source": [
    "df1.index = pd.to_datetime(df1.index)"
   ]
  },
  {
   "cell_type": "code",
   "execution_count": 16,
   "metadata": {},
   "outputs": [
    {
     "data": {
      "text/plain": [
       "DatetimeIndex(['1939-08-11', '1939-08-12', '1939-08-13', '1939-08-14',\n",
       "               '1939-08-15', '1939-08-16', '1939-08-17', '1939-08-18',\n",
       "               '1939-08-19', '1939-08-20',\n",
       "               ...\n",
       "               '2022-03-20', '2022-03-21', '2022-03-22', '2022-03-23',\n",
       "               '2022-03-24', '2022-03-25', '2022-03-26', '2022-03-27',\n",
       "               '2022-03-28', '2022-03-29'],\n",
       "              dtype='datetime64[ns]', name='DATE', length=30182, freq=None)"
      ]
     },
     "execution_count": 16,
     "metadata": {},
     "output_type": "execute_result"
    }
   ],
   "source": [
    "df1.index"
   ]
  },
  {
   "cell_type": "code",
   "execution_count": 17,
   "metadata": {},
   "outputs": [
    {
     "data": {
      "text/plain": [
       "precip      0\n",
       "temp_min    0\n",
       "temp_max    0\n",
       "dtype: int64"
      ]
     },
     "execution_count": 17,
     "metadata": {},
     "output_type": "execute_result"
    }
   ],
   "source": [
    "df1.apply(lambda x : (x == 9999).sum())"
   ]
  },
  {
   "cell_type": "code",
   "execution_count": 18,
   "metadata": {},
   "outputs": [
    {
     "data": {
      "text/plain": [
       "<AxesSubplot:xlabel='DATE'>"
      ]
     },
     "execution_count": 18,
     "metadata": {},
     "output_type": "execute_result"
    },
    {
     "data": {
      "image/png": "[encoded data removed]",
      "text/plain": [
       "<Figure size 432x288 with 1 Axes>"
      ]
     },
     "metadata": {
      "needs_background": "light"
     },
     "output_type": "display_data"
    }
   ],
   "source": [
    "df1[[\"temp_min\", \"temp_max\"]].plot()"
   ]
  },
  {
   "cell_type": "code",
   "execution_count": 19,
   "metadata": {},
   "outputs": [
    {
     "data": {
      "text/plain": [
       "<bound method Series.sort_index of 1980    366\n",
       "1988    366\n",
       "1964    366\n",
       "1968    366\n",
       "1972    366\n",
       "       ... \n",
       "1985    365\n",
       "1986    365\n",
       "1981    365\n",
       "1939    143\n",
       "2022     88\n",
       "Name: DATE, Length: 84, dtype: int64>"
      ]
     },
     "execution_count": 19,
     "metadata": {},
     "output_type": "execute_result"
    }
   ],
   "source": [
    "df1.index.year.value_counts().sort_index\n",
    "\n"
   ]
  },
  {
   "cell_type": "code",
   "execution_count": 20,
   "metadata": {},
   "outputs": [],
   "source": [
    "\n",
    "df1[\"target\"] = df1.shift(-1)[\"temp_max\"]"
   ]
  },
  {
   "cell_type": "code",
   "execution_count": 21,
   "metadata": {},
   "outputs": [
    {
     "data": {
      "text/html": [
       "<div>\n",
       "<style scoped>\n",
       "    .dataframe tbody tr th:only-of-type {\n",
       "        vertical-align: middle;\n",
       "    }\n",
       "\n",
       "    .dataframe tbody tr th {\n",
       "        vertical-align: top;\n",
       "    }\n",
       "\n",
       "    .dataframe thead th {\n",
       "        text-align: right;\n",
       "    }\n",
       "</style>\n",
       "<table border=\"1\" class=\"dataframe\">\n",
       "  <thead>\n",
       "    <tr style=\"text-align: right;\">\n",
       "      <th></th>\n",
       "      <th>precip</th>\n",
       "      <th>temp_min</th>\n",
       "      <th>temp_max</th>\n",
       "      <th>target</th>\n",
       "    </tr>\n",
       "    <tr>\n",
       "      <th>DATE</th>\n",
       "      <th></th>\n",
       "      <th></th>\n",
       "      <th></th>\n",
       "      <th></th>\n",
       "    </tr>\n",
       "  </thead>\n",
       "  <tbody>\n",
       "    <tr>\n",
       "      <th>1939-08-11</th>\n",
       "      <td>0.0</td>\n",
       "      <td>13.3</td>\n",
       "      <td>27.8</td>\n",
       "      <td>26.4</td>\n",
       "    </tr>\n",
       "    <tr>\n",
       "      <th>1939-08-12</th>\n",
       "      <td>0.0</td>\n",
       "      <td>13.3</td>\n",
       "      <td>26.4</td>\n",
       "      <td>26.4</td>\n",
       "    </tr>\n",
       "    <tr>\n",
       "      <th>1939-08-13</th>\n",
       "      <td>0.0</td>\n",
       "      <td>16.9</td>\n",
       "      <td>26.4</td>\n",
       "      <td>32.0</td>\n",
       "    </tr>\n",
       "    <tr>\n",
       "      <th>1939-08-14</th>\n",
       "      <td>0.0</td>\n",
       "      <td>16.9</td>\n",
       "      <td>32.0</td>\n",
       "      <td>31.9</td>\n",
       "    </tr>\n",
       "    <tr>\n",
       "      <th>1939-08-15</th>\n",
       "      <td>0.0</td>\n",
       "      <td>17.1</td>\n",
       "      <td>31.9</td>\n",
       "      <td>30.6</td>\n",
       "    </tr>\n",
       "    <tr>\n",
       "      <th>...</th>\n",
       "      <td>...</td>\n",
       "      <td>...</td>\n",
       "      <td>...</td>\n",
       "      <td>...</td>\n",
       "    </tr>\n",
       "    <tr>\n",
       "      <th>2022-03-25</th>\n",
       "      <td>0.0</td>\n",
       "      <td>29.7</td>\n",
       "      <td>33.7</td>\n",
       "      <td>34.0</td>\n",
       "    </tr>\n",
       "    <tr>\n",
       "      <th>2022-03-26</th>\n",
       "      <td>0.0</td>\n",
       "      <td>27.2</td>\n",
       "      <td>34.0</td>\n",
       "      <td>34.1</td>\n",
       "    </tr>\n",
       "    <tr>\n",
       "      <th>2022-03-27</th>\n",
       "      <td>0.0</td>\n",
       "      <td>27.2</td>\n",
       "      <td>34.1</td>\n",
       "      <td>35.5</td>\n",
       "    </tr>\n",
       "    <tr>\n",
       "      <th>2022-03-28</th>\n",
       "      <td>0.0</td>\n",
       "      <td>27.2</td>\n",
       "      <td>35.5</td>\n",
       "      <td>35.5</td>\n",
       "    </tr>\n",
       "    <tr>\n",
       "      <th>2022-03-29</th>\n",
       "      <td>0.8</td>\n",
       "      <td>27.2</td>\n",
       "      <td>35.5</td>\n",
       "      <td>NaN</td>\n",
       "    </tr>\n",
       "  </tbody>\n",
       "</table>\n",
       "<p>30182 rows × 4 columns</p>\n",
       "</div>"
      ],
      "text/plain": [
       "            precip  temp_min  temp_max  target\n",
       "DATE                                          \n",
       "1939-08-11     0.0      13.3      27.8    26.4\n",
       "1939-08-12     0.0      13.3      26.4    26.4\n",
       "1939-08-13     0.0      16.9      26.4    32.0\n",
       "1939-08-14     0.0      16.9      32.0    31.9\n",
       "1939-08-15     0.0      17.1      31.9    30.6\n",
       "...            ...       ...       ...     ...\n",
       "2022-03-25     0.0      29.7      33.7    34.0\n",
       "2022-03-26     0.0      27.2      34.0    34.1\n",
       "2022-03-27     0.0      27.2      34.1    35.5\n",
       "2022-03-28     0.0      27.2      35.5    35.5\n",
       "2022-03-29     0.8      27.2      35.5     NaN\n",
       "\n",
       "[30182 rows x 4 columns]"
      ]
     },
     "execution_count": 21,
     "metadata": {},
     "output_type": "execute_result"
    }
   ],
   "source": [
    "df1\n"
   ]
  },
  {
   "cell_type": "code",
   "execution_count": 22,
   "metadata": {},
   "outputs": [],
   "source": [
    "df1 = df1.fillna(method= \"ffill\")"
   ]
  },
  {
   "cell_type": "code",
   "execution_count": 23,
   "metadata": {},
   "outputs": [
    {
     "data": {
      "text/html": [
       "<div>\n",
       "<style scoped>\n",
       "    .dataframe tbody tr th:only-of-type {\n",
       "        vertical-align: middle;\n",
       "    }\n",
       "\n",
       "    .dataframe tbody tr th {\n",
       "        vertical-align: top;\n",
       "    }\n",
       "\n",
       "    .dataframe thead th {\n",
       "        text-align: right;\n",
       "    }\n",
       "</style>\n",
       "<table border=\"1\" class=\"dataframe\">\n",
       "  <thead>\n",
       "    <tr style=\"text-align: right;\">\n",
       "      <th></th>\n",
       "      <th>precip</th>\n",
       "      <th>temp_min</th>\n",
       "      <th>temp_max</th>\n",
       "      <th>target</th>\n",
       "    </tr>\n",
       "    <tr>\n",
       "      <th>DATE</th>\n",
       "      <th></th>\n",
       "      <th></th>\n",
       "      <th></th>\n",
       "      <th></th>\n",
       "    </tr>\n",
       "  </thead>\n",
       "  <tbody>\n",
       "    <tr>\n",
       "      <th>1939-08-11</th>\n",
       "      <td>0.0</td>\n",
       "      <td>13.3</td>\n",
       "      <td>27.8</td>\n",
       "      <td>26.4</td>\n",
       "    </tr>\n",
       "    <tr>\n",
       "      <th>1939-08-12</th>\n",
       "      <td>0.0</td>\n",
       "      <td>13.3</td>\n",
       "      <td>26.4</td>\n",
       "      <td>26.4</td>\n",
       "    </tr>\n",
       "    <tr>\n",
       "      <th>1939-08-13</th>\n",
       "      <td>0.0</td>\n",
       "      <td>16.9</td>\n",
       "      <td>26.4</td>\n",
       "      <td>32.0</td>\n",
       "    </tr>\n",
       "    <tr>\n",
       "      <th>1939-08-14</th>\n",
       "      <td>0.0</td>\n",
       "      <td>16.9</td>\n",
       "      <td>32.0</td>\n",
       "      <td>31.9</td>\n",
       "    </tr>\n",
       "    <tr>\n",
       "      <th>1939-08-15</th>\n",
       "      <td>0.0</td>\n",
       "      <td>17.1</td>\n",
       "      <td>31.9</td>\n",
       "      <td>30.6</td>\n",
       "    </tr>\n",
       "    <tr>\n",
       "      <th>...</th>\n",
       "      <td>...</td>\n",
       "      <td>...</td>\n",
       "      <td>...</td>\n",
       "      <td>...</td>\n",
       "    </tr>\n",
       "    <tr>\n",
       "      <th>2022-03-25</th>\n",
       "      <td>0.0</td>\n",
       "      <td>29.7</td>\n",
       "      <td>33.7</td>\n",
       "      <td>34.0</td>\n",
       "    </tr>\n",
       "    <tr>\n",
       "      <th>2022-03-26</th>\n",
       "      <td>0.0</td>\n",
       "      <td>27.2</td>\n",
       "      <td>34.0</td>\n",
       "      <td>34.1</td>\n",
       "    </tr>\n",
       "    <tr>\n",
       "      <th>2022-03-27</th>\n",
       "      <td>0.0</td>\n",
       "      <td>27.2</td>\n",
       "      <td>34.1</td>\n",
       "      <td>35.5</td>\n",
       "    </tr>\n",
       "    <tr>\n",
       "      <th>2022-03-28</th>\n",
       "      <td>0.0</td>\n",
       "      <td>27.2</td>\n",
       "      <td>35.5</td>\n",
       "      <td>35.5</td>\n",
       "    </tr>\n",
       "    <tr>\n",
       "      <th>2022-03-29</th>\n",
       "      <td>0.8</td>\n",
       "      <td>27.2</td>\n",
       "      <td>35.5</td>\n",
       "      <td>35.5</td>\n",
       "    </tr>\n",
       "  </tbody>\n",
       "</table>\n",
       "<p>30182 rows × 4 columns</p>\n",
       "</div>"
      ],
      "text/plain": [
       "            precip  temp_min  temp_max  target\n",
       "DATE                                          \n",
       "1939-08-11     0.0      13.3      27.8    26.4\n",
       "1939-08-12     0.0      13.3      26.4    26.4\n",
       "1939-08-13     0.0      16.9      26.4    32.0\n",
       "1939-08-14     0.0      16.9      32.0    31.9\n",
       "1939-08-15     0.0      17.1      31.9    30.6\n",
       "...            ...       ...       ...     ...\n",
       "2022-03-25     0.0      29.7      33.7    34.0\n",
       "2022-03-26     0.0      27.2      34.0    34.1\n",
       "2022-03-27     0.0      27.2      34.1    35.5\n",
       "2022-03-28     0.0      27.2      35.5    35.5\n",
       "2022-03-29     0.8      27.2      35.5    35.5\n",
       "\n",
       "[30182 rows x 4 columns]"
      ]
     },
     "execution_count": 23,
     "metadata": {},
     "output_type": "execute_result"
    }
   ],
   "source": [
    "df1"
   ]
  },
  {
   "cell_type": "code",
   "execution_count": 24,
   "metadata": {},
   "outputs": [],
   "source": [
    "from sklearn.linear_model import Ridge\n",
    "\n",
    "reg = Ridge(alpha = .1)"
   ]
  },
  {
   "cell_type": "code",
   "execution_count": 25,
   "metadata": {},
   "outputs": [
    {
     "data": {
      "text/plain": [
       "Ridge(alpha=0.1)"
      ]
     },
     "execution_count": 25,
     "metadata": {},
     "output_type": "execute_result"
    }
   ],
   "source": [
    "predictors = [\"precip\", \"temp_min\", \"temp_max\"]\n",
    "\n",
    "train = df1.loc[:\"2020-12-31\"]\n",
    "test  = df1.loc[\"2021-01-01\" :]\n",
    "\n",
    "reg.fit(train[predictors], train[\"target\"])"
   ]
  },
  {
   "cell_type": "code",
   "execution_count": 26,
   "metadata": {},
   "outputs": [],
   "source": [
    "predictions = reg.predict(test[predictors])"
   ]
  },
  {
   "cell_type": "code",
   "execution_count": 27,
   "metadata": {},
   "outputs": [],
   "source": [
    "from sklearn.metrics import mean_absolute_error"
   ]
  },
  {
   "cell_type": "code",
   "execution_count": 28,
   "metadata": {},
   "outputs": [
    {
     "data": {
      "text/plain": [
       "1.3657683292899592"
      ]
     },
     "execution_count": 28,
     "metadata": {},
     "output_type": "execute_result"
    }
   ],
   "source": [
    "mean_absolute_error(test[\"target\"], predictions)\n",
    "#this will tells the absolute error between the real values and the predicted values"
   ]
  },
  {
   "cell_type": "code",
   "execution_count": 29,
   "metadata": {},
   "outputs": [],
   "source": [
    "#comparing the actual and predicted values\n",
    "combined = pd.concat([test[\"target\"], pd.Series(predictions, index= test.index)], axis = 1)\n",
    "combined.columns = [\"Actual\", \"Predictions\"]"
   ]
  },
  {
   "cell_type": "code",
   "execution_count": 30,
   "metadata": {},
   "outputs": [
    {
     "data": {
      "text/html": [
       "<div>\n",
       "<style scoped>\n",
       "    .dataframe tbody tr th:only-of-type {\n",
       "        vertical-align: middle;\n",
       "    }\n",
       "\n",
       "    .dataframe tbody tr th {\n",
       "        vertical-align: top;\n",
       "    }\n",
       "\n",
       "    .dataframe thead th {\n",
       "        text-align: right;\n",
       "    }\n",
       "</style>\n",
       "<table border=\"1\" class=\"dataframe\">\n",
       "  <thead>\n",
       "    <tr style=\"text-align: right;\">\n",
       "      <th></th>\n",
       "      <th>Actual</th>\n",
       "      <th>Predictions</th>\n",
       "    </tr>\n",
       "    <tr>\n",
       "      <th>DATE</th>\n",
       "      <th></th>\n",
       "      <th></th>\n",
       "    </tr>\n",
       "  </thead>\n",
       "  <tbody>\n",
       "    <tr>\n",
       "      <th>2021-01-01</th>\n",
       "      <td>34.5</td>\n",
       "      <td>35.354583</td>\n",
       "    </tr>\n",
       "    <tr>\n",
       "      <th>2021-01-02</th>\n",
       "      <td>34.5</td>\n",
       "      <td>34.559474</td>\n",
       "    </tr>\n",
       "    <tr>\n",
       "      <th>2021-01-03</th>\n",
       "      <td>34.4</td>\n",
       "      <td>34.559474</td>\n",
       "    </tr>\n",
       "    <tr>\n",
       "      <th>2021-01-04</th>\n",
       "      <td>38.0</td>\n",
       "      <td>34.500573</td>\n",
       "    </tr>\n",
       "    <tr>\n",
       "      <th>2021-01-05</th>\n",
       "      <td>38.7</td>\n",
       "      <td>36.777405</td>\n",
       "    </tr>\n",
       "    <tr>\n",
       "      <th>...</th>\n",
       "      <td>...</td>\n",
       "      <td>...</td>\n",
       "    </tr>\n",
       "    <tr>\n",
       "      <th>2022-03-25</th>\n",
       "      <td>34.0</td>\n",
       "      <td>34.023868</td>\n",
       "    </tr>\n",
       "    <tr>\n",
       "      <th>2022-03-26</th>\n",
       "      <td>34.1</td>\n",
       "      <td>33.998173</td>\n",
       "    </tr>\n",
       "    <tr>\n",
       "      <th>2022-03-27</th>\n",
       "      <td>35.5</td>\n",
       "      <td>34.066274</td>\n",
       "    </tr>\n",
       "    <tr>\n",
       "      <th>2022-03-28</th>\n",
       "      <td>35.5</td>\n",
       "      <td>35.019686</td>\n",
       "    </tr>\n",
       "    <tr>\n",
       "      <th>2022-03-29</th>\n",
       "      <td>35.5</td>\n",
       "      <td>35.018505</td>\n",
       "    </tr>\n",
       "  </tbody>\n",
       "</table>\n",
       "<p>453 rows × 2 columns</p>\n",
       "</div>"
      ],
      "text/plain": [
       "            Actual  Predictions\n",
       "DATE                           \n",
       "2021-01-01    34.5    35.354583\n",
       "2021-01-02    34.5    34.559474\n",
       "2021-01-03    34.4    34.559474\n",
       "2021-01-04    38.0    34.500573\n",
       "2021-01-05    38.7    36.777405\n",
       "...            ...          ...\n",
       "2022-03-25    34.0    34.023868\n",
       "2022-03-26    34.1    33.998173\n",
       "2022-03-27    35.5    34.066274\n",
       "2022-03-28    35.5    35.019686\n",
       "2022-03-29    35.5    35.018505\n",
       "\n",
       "[453 rows x 2 columns]"
      ]
     },
     "execution_count": 30,
     "metadata": {},
     "output_type": "execute_result"
    }
   ],
   "source": [
    "combined"
   ]
  },
  {
   "cell_type": "code",
   "execution_count": 31,
   "metadata": {},
   "outputs": [
    {
     "data": {
      "text/plain": [
       "<AxesSubplot:xlabel='DATE'>"
      ]
     },
     "execution_count": 31,
     "metadata": {},
     "output_type": "execute_result"
    },
    {
     "data": {
      "image/png": "[encoded data removed]",
      "text/plain": [
       "<Figure size 432x288 with 1 Axes>"
      ]
     },
     "metadata": {
      "needs_background": "light"
     },
     "output_type": "display_data"
    }
   ],
   "source": [
    "combined.plot()"
   ]
  },
  {
   "cell_type": "code",
   "execution_count": 33,
   "metadata": {},
   "outputs": [
    {
     "data": {
      "text/plain": [
       "array([-0.00147556,  0.09199872,  0.68100818])"
      ]
     },
     "execution_count": 33,
     "metadata": {},
     "output_type": "execute_result"
    }
   ],
   "source": [
    "reg.coef_"
   ]
  },
  {
   "cell_type": "code",
   "execution_count": 34,
   "metadata": {},
   "outputs": [],
   "source": [
    "def weather_prediction(predictors, df1):\n",
    "    train = df1.loc[:\"2020-12-31\"]\n",
    "    test  = df1.loc[\"2021-01-01\" :]\n",
    "\n",
    "    reg.fit(train[predictors], train[\"target\"])\n",
    "    predictions = reg.predict(test[predictors])\n",
    "    error = mean_absolute_error(test[\"target\"], predictions)\n",
    "    combined = pd.concat([test[\"target\"], pd.Series(predictions, index= test.index)], axis = 1)\n",
    "    combined.columns = [\"Actual\", \"Predictions\"]\n",
    "    \n",
    "    return error, combined\n"
   ]
  },
  {
   "cell_type": "code",
   "execution_count": 36,
   "metadata": {},
   "outputs": [],
   "source": [
    "df1[\"month_max_temp\"] = df1[\"temp_max\"].rolling(30).mean()"
   ]
  },
  {
   "cell_type": "code",
   "execution_count": 37,
   "metadata": {},
   "outputs": [
    {
     "data": {
      "text/html": [
       "<div>\n",
       "<style scoped>\n",
       "    .dataframe tbody tr th:only-of-type {\n",
       "        vertical-align: middle;\n",
       "    }\n",
       "\n",
       "    .dataframe tbody tr th {\n",
       "        vertical-align: top;\n",
       "    }\n",
       "\n",
       "    .dataframe thead th {\n",
       "        text-align: right;\n",
       "    }\n",
       "</style>\n",
       "<table border=\"1\" class=\"dataframe\">\n",
       "  <thead>\n",
       "    <tr style=\"text-align: right;\">\n",
       "      <th></th>\n",
       "      <th>precip</th>\n",
       "      <th>temp_min</th>\n",
       "      <th>temp_max</th>\n",
       "      <th>target</th>\n",
       "      <th>month_max_temp</th>\n",
       "    </tr>\n",
       "    <tr>\n",
       "      <th>DATE</th>\n",
       "      <th></th>\n",
       "      <th></th>\n",
       "      <th></th>\n",
       "      <th></th>\n",
       "      <th></th>\n",
       "    </tr>\n",
       "  </thead>\n",
       "  <tbody>\n",
       "    <tr>\n",
       "      <th>1939-08-11</th>\n",
       "      <td>0.0</td>\n",
       "      <td>13.3</td>\n",
       "      <td>27.8</td>\n",
       "      <td>26.4</td>\n",
       "      <td>NaN</td>\n",
       "    </tr>\n",
       "    <tr>\n",
       "      <th>1939-08-12</th>\n",
       "      <td>0.0</td>\n",
       "      <td>13.3</td>\n",
       "      <td>26.4</td>\n",
       "      <td>26.4</td>\n",
       "      <td>NaN</td>\n",
       "    </tr>\n",
       "    <tr>\n",
       "      <th>1939-08-13</th>\n",
       "      <td>0.0</td>\n",
       "      <td>16.9</td>\n",
       "      <td>26.4</td>\n",
       "      <td>32.0</td>\n",
       "      <td>NaN</td>\n",
       "    </tr>\n",
       "    <tr>\n",
       "      <th>1939-08-14</th>\n",
       "      <td>0.0</td>\n",
       "      <td>16.9</td>\n",
       "      <td>32.0</td>\n",
       "      <td>31.9</td>\n",
       "      <td>NaN</td>\n",
       "    </tr>\n",
       "    <tr>\n",
       "      <th>1939-08-15</th>\n",
       "      <td>0.0</td>\n",
       "      <td>17.1</td>\n",
       "      <td>31.9</td>\n",
       "      <td>30.6</td>\n",
       "      <td>NaN</td>\n",
       "    </tr>\n",
       "    <tr>\n",
       "      <th>...</th>\n",
       "      <td>...</td>\n",
       "      <td>...</td>\n",
       "      <td>...</td>\n",
       "      <td>...</td>\n",
       "      <td>...</td>\n",
       "    </tr>\n",
       "    <tr>\n",
       "      <th>2022-03-25</th>\n",
       "      <td>0.0</td>\n",
       "      <td>29.7</td>\n",
       "      <td>33.7</td>\n",
       "      <td>34.0</td>\n",
       "      <td>34.036667</td>\n",
       "    </tr>\n",
       "    <tr>\n",
       "      <th>2022-03-26</th>\n",
       "      <td>0.0</td>\n",
       "      <td>27.2</td>\n",
       "      <td>34.0</td>\n",
       "      <td>34.1</td>\n",
       "      <td>34.033333</td>\n",
       "    </tr>\n",
       "    <tr>\n",
       "      <th>2022-03-27</th>\n",
       "      <td>0.0</td>\n",
       "      <td>27.2</td>\n",
       "      <td>34.1</td>\n",
       "      <td>35.5</td>\n",
       "      <td>34.096667</td>\n",
       "    </tr>\n",
       "    <tr>\n",
       "      <th>2022-03-28</th>\n",
       "      <td>0.0</td>\n",
       "      <td>27.2</td>\n",
       "      <td>35.5</td>\n",
       "      <td>35.5</td>\n",
       "      <td>34.153333</td>\n",
       "    </tr>\n",
       "    <tr>\n",
       "      <th>2022-03-29</th>\n",
       "      <td>0.8</td>\n",
       "      <td>27.2</td>\n",
       "      <td>35.5</td>\n",
       "      <td>35.5</td>\n",
       "      <td>34.206667</td>\n",
       "    </tr>\n",
       "  </tbody>\n",
       "</table>\n",
       "<p>30182 rows × 5 columns</p>\n",
       "</div>"
      ],
      "text/plain": [
       "            precip  temp_min  temp_max  target  month_max_temp\n",
       "DATE                                                          \n",
       "1939-08-11     0.0      13.3      27.8    26.4             NaN\n",
       "1939-08-12     0.0      13.3      26.4    26.4             NaN\n",
       "1939-08-13     0.0      16.9      26.4    32.0             NaN\n",
       "1939-08-14     0.0      16.9      32.0    31.9             NaN\n",
       "1939-08-15     0.0      17.1      31.9    30.6             NaN\n",
       "...            ...       ...       ...     ...             ...\n",
       "2022-03-25     0.0      29.7      33.7    34.0       34.036667\n",
       "2022-03-26     0.0      27.2      34.0    34.1       34.033333\n",
       "2022-03-27     0.0      27.2      34.1    35.5       34.096667\n",
       "2022-03-28     0.0      27.2      35.5    35.5       34.153333\n",
       "2022-03-29     0.8      27.2      35.5    35.5       34.206667\n",
       "\n",
       "[30182 rows x 5 columns]"
      ]
     },
     "execution_count": 37,
     "metadata": {},
     "output_type": "execute_result"
    }
   ],
   "source": [
    "df1"
   ]
  },
  {
   "cell_type": "code",
   "execution_count": null,
   "metadata": {},
   "outputs": [],
   "source": []
  }
 ],
 "metadata": {
  "interpreter": {
   "hash": "83b5c454196e541f9155f3ee4f2ff1da305b0099cef7b5e6793cef05a0c7a817"
  },
  "kernelspec": {
   "display_name": "Python 3.9.7 64-bit",
   "name": "python3"
  },
  "language_info": {
   "codemirror_mode": {
    "name": "ipython",
    "version": 3
   },
   "file_extension": ".py",
   "mimetype": "text/x-python",
   "name": "python",
   "nbconvert_exporter": "python",
   "pygments_lexer": "ipython3",
   "version": "3.9.7"
  }
 },
 "nbformat": 4,
 "nbformat_minor": 2
}
